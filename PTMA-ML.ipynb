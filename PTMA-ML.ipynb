{
 "cells": [
  {
   "cell_type": "markdown",
   "id": "4b7c5da9-beda-4bff-82ad-17fce29283c3",
   "metadata": {},
   "source": [
    "# Machine learning isotropic $g$ values of radical polymers "
   ]
  },
  {
   "cell_type": "markdown",
   "id": "6dc84ee4-8d3e-4621-9ee1-b0541e218be1",
   "metadata": {},
   "source": [
    "Davis Thomas Daniel$^{1,2}$, Souvik Mitra$^{3}$, Diddo Diddens$^{3,4}$, Rüdiger A. Eichel$^{1,4}$ and Josef Granwehr$^{1,2}$"
   ]
  },
  {
   "cell_type": "markdown",
   "id": "a45eb173-e992-42b5-8091-a8dec50d65b9",
   "metadata": {},
   "source": [
    "1. Institute of Energy and Climate Research (IEK-9), Forschungszentrum Jülich GmbH, Jülich, 52425, Germany\n",
    "2. Institute of Technical and Macromolecular Chemistry, RWTH Aachen University, Aachen, 52056, Germany\n",
    "3. Institute of Physical Chemistry, University of Münster, 48149, Münster, Germany\n",
    "4. Institute of Physical Chemistry, RWTH Aachen University, Aachen 52056, Germany\n",
    "5. Helmholtz-Institute Münster (IEK-12), Forschungszentrum Jülich GmbH, Jülich, Münster, 48149, Germany, 52425, Germany"
   ]
  },
  {
   "cell_type": "markdown",
   "id": "f62dcebc-edd7-47a3-a89a-abfaf01f7bec",
   "metadata": {
    "tags": []
   },
   "source": [
    "![toc.png](Scripts/TOC.png)"
   ]
  },
  {
   "cell_type": "markdown",
   "id": "cf06bda3-58a9-4d79-8451-9fe3a570feec",
   "metadata": {},
   "source": [
    "Python libraries : \n",
    "\n",
    "* numpy : https://numpy.org/install/\n",
    "\n",
    "* sklearn : https://scikit-learn.org/stable/install.html (v. 1.22 was used in this work.)\n",
    "\n",
    "* dscribe : https://singroup.github.io/dscribe/latest/install.html (v. 1.2.2 was used in this work.)\n",
    "\n",
    "* ase : https://wiki.fysik.dtu.dk/ase/install.html (v. 3.22.1 was used in this work.)"
   ]
  },
  {
   "cell_type": "markdown",
   "id": "61699551-51c6-41c5-aac5-89895d08e5a6",
   "metadata": {},
   "source": [
    "## 1. Import required modules"
   ]
  },
  {
   "cell_type": "code",
   "execution_count": 1,
   "id": "6283a7d3-f195-47cf-a11d-529d8653ba44",
   "metadata": {
    "tags": []
   },
   "outputs": [],
   "source": [
    "# please install numpy and ase.\n",
    "\n",
    "import numpy as np\n",
    "import pickle\n",
    "\n",
    "# custom prediction functions for directly predicting from xyz files. Also imports ase, so ase should be installed.\n",
    "from Scripts.prediction_functions import *  \n",
    "\n",
    "\n",
    "## only needed if model is retrained : \n",
    "\n",
    "#from sklearn.ensemble import ExtraTreesRegressor \n",
    "#from sklearn.metrics import r2_score, mean_absolute_error, mean_squared_error"
   ]
  },
  {
   "cell_type": "markdown",
   "id": "316ce1b1-b1b6-48b1-9244-bd967952cb45",
   "metadata": {},
   "source": [
    "The steps to train a Extra trees regressor model on the training data provided are shown in 2. and 3. The steps are shown for MBTR, but can be adapted to DAD and SOAP by replacing with corresponding filenames."
   ]
  },
  {
   "cell_type": "markdown",
   "id": "4ec1d899-7c07-4ac7-913e-48e62e5eb521",
   "metadata": {},
   "source": [
    "## 2. Load Feature vectors "
   ]
  },
  {
   "cell_type": "markdown",
   "id": "782a4a70-f838-4487-9795-e5e78e7d8190",
   "metadata": {},
   "source": [
    "#### Feature vectors are generated from atomic coordinates by transforming them using a molecular descriptor.\n"
   ]
  },
  {
   "cell_type": "markdown",
   "id": "29136d99-4e87-4b82-96ea-afb2dc3c784d",
   "metadata": {},
   "source": [
    "Exemplary code to achieve this for MBTR and DAD is given below  :"
   ]
  },
  {
   "cell_type": "markdown",
   "id": "7547bb9d-7c86-466f-854a-ea60d2e9fc7e",
   "metadata": {
    "tags": []
   },
   "source": [
    "\n",
    "```python\n",
    "from ase.io import read\n",
    "from dscribe.descriptors import MBTR\n",
    "from Scripts.prediction_functions import generate_DAD\n",
    "\n",
    "\n",
    "\n",
    "xyz = 'structure.xyz' # Path to xyz file\n",
    "structure = read(xyz) #  Make an atoms object using ASE\n",
    "\n",
    "ptma_chemical_symbols = set()  # Initiate a set\n",
    "ptma_chemical_symbols.update(structure.get_chemical_symbols()) # Get chemical symbols in PTMA\n",
    "\n",
    "\n",
    "# define the MBTR configuration (Read more here : https://singroup.github.io/dscribe/0.3.x/tutorials/mbtr.html)\n",
    "# MBTR object used in the manuscript is shown below.\n",
    "\n",
    "mbtr = MBTR(\n",
    "    species=ptma_chemical_symbols,\n",
    "    k1 = {'geometry': {'function': 'atomic_number'},\n",
    "          'grid': {'min': 0, 'max': 10, 'sigma': 0.01, 'n': 10}},\n",
    "    k2 = {'geometry': {'function': 'inverse_distance'},\n",
    "          'grid': {'min': 0.04, 'max': 2, 'sigma': 0.1, 'n': 50},\n",
    "          'weighting': {'function': 'exp', 'r_cut': 10, 'threshold': 0.001}},\n",
    "    k3 = {'geometry': {'function': 'angle'},\n",
    "          'grid': {'min': 0, 'max': 180, 'sigma': 4, 'n': 180},\n",
    "          'weighting': {'function': 'exp', 'r_cut': 5, 'threshold': 0.01}},\n",
    "    periodic=False,\n",
    "    flatten=True)\n",
    "\n",
    "mbtr_output = mbtr.create(structure)\n",
    "\n",
    "# for DAD \n",
    "\n",
    "dad_output = generate_DAD(xyz)\n",
    "\n",
    "```"
   ]
  },
  {
   "cell_type": "markdown",
   "id": "70f7fc39-d0a5-4fe6-9482-b360e84c13f0",
   "metadata": {
    "tags": []
   },
   "source": [
    "#### Pre-generated Training  dataset\n"
   ]
  },
  {
   "cell_type": "markdown",
   "id": "aab26a35-146c-4ce3-bac6-108af68b61b7",
   "metadata": {},
   "source": [
    "Two arrays which make up the $\\textbf{TR}$ dataset are loaded in the next step.\n",
    "\n",
    "* X_train :  Contains 150 PTMA structures used for training. (See Dataset generation in main text.)\n",
    "\n",
    "* Y_train :  Contains corresponding $g_\\mathrm{iso}$ values.\n"
   ]
  },
  {
   "cell_type": "code",
   "execution_count": 2,
   "id": "b4d7613f-5d2a-40a6-8e7a-d5f17497c7e5",
   "metadata": {
    "tags": []
   },
   "outputs": [],
   "source": [
    "X_train = np.load('Datasets/TR/train_structure_data_MBTR.npy')  # For DAD use : np.load('Datasets/TR/train_structure_data_DAD.npy')\n",
    "Y_train = np.load('Datasets/TR/train_giso_DFT_data.npy')"
   ]
  },
  {
   "cell_type": "markdown",
   "id": "26b55225-fc6b-4e40-b36a-792f4a8c7863",
   "metadata": {},
   "source": [
    "Hyperparameters were optmised using a gridsearch. Exemplary code is shown below.\n",
    "\n",
    "```python\n",
    "from sklearn.model_selection import GridSearchCV\n",
    "\n",
    "# define the grid\n",
    "param_grid = {\n",
    "    \"n_estimators\": list(range(10,110)),\n",
    "    \"max_features\": [None, \"sqrt\", \"log2\"],\n",
    "    \"min_samples_split\": [2,4, 6],\n",
    "    \"min_samples_leaf\": [2, 3, 4],\n",
    "    \"max_depth\": [None]+list(range(10,40)),\n",
    "    \"max_leaf_nodes\": [None]+list(range(2,21)),\n",
    "    \"bootstrap\" : [True,False]\n",
    "}\n",
    "\n",
    "\n",
    "# run the gridsearch\n",
    "gcv = GridSearchCV(estimator=ExtraTreesRegressor(random_state=1,n_jobs=-1), \n",
    "                   cv=5, param_grid=param_grid,\n",
    "                   verbose=1,n_jobs=-1,\n",
    "                   scoring=['r2','neg_mean_absolute_error','neg_root_mean_squared_error'],\n",
    "                   refit='neg_root_mean_squared_error',\n",
    "                   error_score='raise')\n",
    "\n",
    "```"
   ]
  },
  {
   "cell_type": "markdown",
   "id": "19a65eb8-080c-4fae-b9ed-839967fefe0a",
   "metadata": {},
   "source": [
    "## 3. Model "
   ]
  },
  {
   "cell_type": "markdown",
   "id": "b67aaf17-9153-4df4-b031-1866f42bfc5c",
   "metadata": {},
   "source": [
    "#### Exemplary code for traning an ExtraTreesRegressor using the optimised hyperparameters.\n"
   ]
  },
  {
   "cell_type": "markdown",
   "id": "94e20072-5459-4d32-bb5c-78c9c0e730f4",
   "metadata": {},
   "source": [
    "\n",
    "Notes : \n",
    "\n",
    "* n_jobs is set to -1. This means all processors on the system will be used.\n",
    "* verbose is set to 1. Training progress will be printed out.\n"
   ]
  },
  {
   "cell_type": "markdown",
   "id": "71f5c033-0216-4674-a66b-b42d1db55177",
   "metadata": {},
   "source": [
    "##### Note : If hyperparameter needs to be changed or a new model needs to be trained, this can be done as shown below."
   ]
  },
  {
   "cell_type": "markdown",
   "id": "96cd1440-65dc-4e6c-8fcd-220ef3ad7b68",
   "metadata": {
    "tags": []
   },
   "source": [
    "```python\n",
    "\n",
    "hyperparameters={'bootstrap': False,\n",
    "                 'ccp_alpha': 0.0,\n",
    "                 'criterion': 'squared_error',\n",
    "                 'max_depth': 10,\n",
    "                 'max_features': None,\n",
    "                 'max_leaf_nodes': None,\n",
    "                 'max_samples': None,\n",
    "                 'min_impurity_decrease': 0.0,\n",
    "                 'min_samples_leaf': 2,\n",
    "                 'min_samples_split': 2,\n",
    "                 'min_weight_fraction_leaf': 0.0,\n",
    "                 'n_estimators': 100,\n",
    "                 'n_jobs': -1,\n",
    "                 'oob_score': False,\n",
    "                 'warm_start': False}\n",
    "\n",
    "model = ExtraTreesRegressor(**hyperparameters).fit(X_train,Y_train)\n",
    "```"
   ]
  },
  {
   "cell_type": "markdown",
   "id": "67356063-0700-4fc2-b8cc-b5b969f814c3",
   "metadata": {},
   "source": [
    "For cross-validation using the **TR** data set : \n",
    "\n",
    "```python\n",
    "from sklearn.model_selection import cross_val_score\n",
    "\n",
    "n_scoresr2 = cross_val_score(model, X_train, Y_train, scoring='r2', cv=5, n_jobs=-1)\n",
    "n_scores_MAE = cross_val_score(model, X_train, Y_train, scoring='neg_mean_absolute_error', cv=5, n_jobs=-1)\n",
    "n_scores_RMSE = cross_val_score(model, X_train, Y_train, scoring='neg_root_mean_squared_error', cv=5, n_jobs=-1)\n",
    "\n",
    "\n",
    "print(\"%0.3f R2 with a standard deviation of %0.3f\" % (n_scoresr2.mean(), n_scoresr2.std()))\n",
    "print(\"%0.6f MAE with a standard deviation of %0.6f\" % (n_scores_MAE.mean()*-1, n_scores_MAE.std()))\n",
    "print(\"%0.6f RMSE with a standard deviation of %0.6f\" % (n_scores_RMSE.mean()*-1, n_scores_RMSE.std()))\n",
    "\n",
    "```"
   ]
  },
  {
   "cell_type": "markdown",
   "id": "bf417e8a-ba69-4a34-be02-07181eea0198",
   "metadata": {},
   "source": [
    "#### The trained model is saved as a python pickle object. To load : "
   ]
  },
  {
   "cell_type": "code",
   "execution_count": 3,
   "id": "402650d4-d9c3-4c02-ac2d-93f98d8692b3",
   "metadata": {
    "tags": []
   },
   "outputs": [],
   "source": [
    "model_MBTR = pickle.load(open('Models/MBTR_ERT_model.pkl','rb')) \n",
    "\n",
    "model_DAD = pickle.load(open('Models/DAD_ERT_model.pkl','rb'))\n",
    "\n",
    "# For SOAP use : \n",
    "#pickle.load(open('Models/SOAP_ERT_MODEL.pkl','rb'))"
   ]
  },
  {
   "cell_type": "markdown",
   "id": "28b30a38-bcf5-4f98-be0d-b0cbce4d8162",
   "metadata": {
    "tags": []
   },
   "source": [
    "Model parameters should match the hyperparameters shown above."
   ]
  },
  {
   "cell_type": "code",
   "execution_count": 4,
   "id": "36df7d6b-6bff-41e7-a8bd-e7c62e80f074",
   "metadata": {
    "tags": []
   },
   "outputs": [
    {
     "data": {
      "text/plain": [
       "{'bootstrap': False,\n",
       " 'ccp_alpha': 0.0,\n",
       " 'criterion': 'squared_error',\n",
       " 'max_depth': 10,\n",
       " 'max_features': None,\n",
       " 'max_leaf_nodes': None,\n",
       " 'max_samples': None,\n",
       " 'min_impurity_decrease': 0.0,\n",
       " 'min_samples_leaf': 2,\n",
       " 'min_samples_split': 2,\n",
       " 'min_weight_fraction_leaf': 0.0,\n",
       " 'n_estimators': 100,\n",
       " 'n_jobs': -1,\n",
       " 'oob_score': False,\n",
       " 'random_state': 1,\n",
       " 'verbose': 1,\n",
       " 'warm_start': False}"
      ]
     },
     "execution_count": 4,
     "metadata": {},
     "output_type": "execute_result"
    }
   ],
   "source": [
    "model_MBTR.get_params()"
   ]
  },
  {
   "cell_type": "markdown",
   "id": "f197abbf-f742-4eca-8fa4-02781a522c6f",
   "metadata": {
    "tags": []
   },
   "source": [
    "## 4. Predictions "
   ]
  },
  {
   "cell_type": "markdown",
   "id": "b013dd5b-97ec-4920-a6ed-f9c45c4c5e1e",
   "metadata": {
    "tags": []
   },
   "source": [
    "Exemplary prediction code for MBTR is shown for TE-1 dataset\n",
    "\n",
    "TE-1 structures are randomly selected from WSD. (See manuscript for more details)"
   ]
  },
  {
   "cell_type": "markdown",
   "id": "7f70b6f3-628e-4b14-a1e7-12ad4acb06a4",
   "metadata": {},
   "source": [
    "### TE-1 dataset ERT-MBTR"
   ]
  },
  {
   "cell_type": "code",
   "execution_count": 5,
   "id": "1e5e5ade-15cf-4f17-8d69-f84be4fd9885",
   "metadata": {
    "tags": []
   },
   "outputs": [],
   "source": [
    "X_test_te1 = np.load('Datasets/TE-1/MBTR_TE1_structure_data.npy')  ## structure data stored in MBTR representation\n",
    "Y_test_te1 = np.load('Datasets/TE-1/TE1_giso_DFT_data.npy')   ## g_iso values calculated using DFT"
   ]
  },
  {
   "cell_type": "code",
   "execution_count": 6,
   "id": "a7c0cf55-995b-428f-89d7-b68912236197",
   "metadata": {
    "tags": []
   },
   "outputs": [
    {
     "name": "stderr",
     "output_type": "stream",
     "text": [
      "[Parallel(n_jobs=8)]: Using backend ThreadingBackend with 8 concurrent workers.\n",
      "[Parallel(n_jobs=8)]: Done  34 tasks      | elapsed:    0.0s\n",
      "[Parallel(n_jobs=8)]: Done 100 out of 100 | elapsed:    0.0s finished\n"
     ]
    }
   ],
   "source": [
    "predictions_te1 = model_MBTR.predict(X_test_te1) ## g_iso values predicted"
   ]
  },
  {
   "cell_type": "code",
   "execution_count": 7,
   "id": "a13b1b35-c068-40ec-a602-7874cefc561c",
   "metadata": {
    "tags": []
   },
   "outputs": [
    {
     "name": "stdout",
     "output_type": "stream",
     "text": [
      "*** TE-1 error metrics ***\n",
      "\n",
      "R2 : 0.989\n",
      "MAE : 0.000097\n",
      "RMSE : 0.000127\n",
      "\n",
      "*******\n"
     ]
    }
   ],
   "source": [
    "#```python\n",
    "from sklearn.metrics import r2_score,mean_absolute_error,mean_squared_error\n",
    "print('*** TE-1 error metrics ***\\n')\n",
    "print('R2 : {:.3f}'.format(r2_score(Y_test_te1,predictions_te1)))\n",
    "print('MAE : {:.6f}'.format(mean_absolute_error(Y_test_te1,predictions_te1)))\n",
    "print('RMSE : {:.6f}'.format(mean_squared_error(Y_test_te1,predictions_te1,squared=False)))\n",
    "\n",
    "print('\\n*******')\n",
    "#```\n"
   ]
  },
  {
   "cell_type": "markdown",
   "id": "54ceece5-1ad3-4249-8bd1-be287c918847",
   "metadata": {},
   "source": [
    "### TE-1 dataset ERT-DAD"
   ]
  },
  {
   "cell_type": "code",
   "execution_count": 8,
   "id": "8e51dd5b-096a-4b64-95d9-5bacc24d00d6",
   "metadata": {
    "tags": []
   },
   "outputs": [],
   "source": [
    "X_test_te1 = np.load('Datasets/TE-1/DAD_TE1_structure_data.npy') ## structure data stored in MBTR representation\n",
    "Y_test_te1 = np.load('Datasets/TE-1/TE1_giso_DFT_data.npy')   ## g_iso values calculated using DFT"
   ]
  },
  {
   "cell_type": "code",
   "execution_count": 9,
   "id": "c77baf4d-1f84-47f6-b62d-6e1e6d806b06",
   "metadata": {
    "tags": []
   },
   "outputs": [
    {
     "name": "stderr",
     "output_type": "stream",
     "text": [
      "[Parallel(n_jobs=8)]: Using backend ThreadingBackend with 8 concurrent workers.\n",
      "[Parallel(n_jobs=8)]: Done  34 tasks      | elapsed:    0.0s\n",
      "[Parallel(n_jobs=8)]: Done 100 out of 100 | elapsed:    0.0s finished\n"
     ]
    }
   ],
   "source": [
    "predictions_te1 = model_DAD.predict(X_test_te1) ## g_iso values predicted"
   ]
  },
  {
   "cell_type": "code",
   "execution_count": 10,
   "id": "54b72695-6224-4ac1-9263-c99978e38557",
   "metadata": {
    "tags": []
   },
   "outputs": [
    {
     "name": "stdout",
     "output_type": "stream",
     "text": [
      "*** TE-1 error metrics ***\n",
      "\n",
      "R2 : 0.979\n",
      "MAE : 0.000128\n",
      "RMSE : 0.000172\n",
      "\n",
      "*******\n"
     ]
    }
   ],
   "source": [
    "#```python\n",
    "from sklearn.metrics import r2_score,mean_absolute_error,mean_squared_error\n",
    "print('*** TE-1 error metrics ***\\n')\n",
    "print('R2 : {:.3f}'.format(r2_score(Y_test_te1,predictions_te1)))\n",
    "print('MAE : {:.6f}'.format(mean_absolute_error(Y_test_te1,predictions_te1)))\n",
    "print('RMSE : {:.6f}'.format(mean_squared_error(Y_test_te1,predictions_te1,squared=False)))\n",
    "\n",
    "print('\\n*******')\n",
    "#```\n"
   ]
  },
  {
   "cell_type": "markdown",
   "id": "54f6daae-94d5-4410-96e2-13770a811c39",
   "metadata": {
    "tags": []
   },
   "source": [
    "### Predictions can also be done directly from xyz files.\n",
    "\n",
    "In the following, structures from TE-2 are used for predictions."
   ]
  },
  {
   "cell_type": "markdown",
   "id": "b6c8e31d-10d0-4a90-b99e-7ad5232d762d",
   "metadata": {},
   "source": [
    "##### For MBTR "
   ]
  },
  {
   "cell_type": "code",
   "execution_count": 11,
   "id": "d77357c1-99d1-4afa-b347-fe5e928e5b80",
   "metadata": {
    "tags": []
   },
   "outputs": [],
   "source": [
    "model_MBTR = pickle.load(open('Models/MBTR_ERT_model.pkl','rb'))  ## Load MBTR trained model"
   ]
  },
  {
   "cell_type": "code",
   "execution_count": 12,
   "id": "0682af78-8be8-41c4-9852-621a18dc4c36",
   "metadata": {
    "tags": []
   },
   "outputs": [
    {
     "name": "stdout",
     "output_type": "stream",
     "text": [
      "DFT calcualted g =  2.0051969\n",
      "ML predicted g =  [2.00516016]\n",
      "Difference  =  [3.67408333e-05]\n"
     ]
    },
    {
     "name": "stderr",
     "output_type": "stream",
     "text": [
      "[Parallel(n_jobs=8)]: Using backend ThreadingBackend with 8 concurrent workers.\n",
      "[Parallel(n_jobs=8)]: Done  34 tasks      | elapsed:    0.0s\n",
      "[Parallel(n_jobs=8)]: Done 100 out of 100 | elapsed:    0.0s finished\n"
     ]
    }
   ],
   "source": [
    "\n",
    "predicted = predict_MBTR(model_MBTR,'XYZ_files/TE-2/PTMA-1/chainlength_6ptma_16_4.xyz') # predict_MBTR function can be found in Scripts/prediction_functions.py\n",
    "DFT_calculated = 2.0051969\n",
    "\n",
    "\n",
    "print('DFT calcualted g = ',DFT_calculated)\n",
    "print('ML predicted g = ',predicted)\n",
    "print('Difference  = ',DFT_calculated-predicted)"
   ]
  },
  {
   "cell_type": "markdown",
   "id": "7ff60cd9-b016-4843-a6b6-72fec0609ef5",
   "metadata": {},
   "source": [
    "##### For DAD"
   ]
  },
  {
   "cell_type": "code",
   "execution_count": 13,
   "id": "9233c38e-1660-4c75-979e-da5d5483fbf5",
   "metadata": {
    "tags": []
   },
   "outputs": [],
   "source": [
    "model_DAD = pickle.load(open('Models/DAD_ERT_model.pkl','rb'))  ## Load DAD trained model"
   ]
  },
  {
   "cell_type": "code",
   "execution_count": 14,
   "id": "d4426afd-2fd1-493d-bbc1-f9d4692cc3b2",
   "metadata": {
    "tags": []
   },
   "outputs": [
    {
     "name": "stdout",
     "output_type": "stream",
     "text": [
      "DFT calcualted g =  2.0051969\n",
      "ML predicted g =  [2.00541722]\n",
      "Difference  =  [-0.00022032]\n"
     ]
    },
    {
     "name": "stderr",
     "output_type": "stream",
     "text": [
      "[Parallel(n_jobs=8)]: Using backend ThreadingBackend with 8 concurrent workers.\n",
      "[Parallel(n_jobs=8)]: Done  34 tasks      | elapsed:    0.0s\n",
      "[Parallel(n_jobs=8)]: Done 100 out of 100 | elapsed:    0.0s finished\n"
     ]
    }
   ],
   "source": [
    "predicted = predict_DAD(model_DAD,'XYZ_files/TE-2/PTMA-1/chainlength_6ptma_16_4.xyz') # predict_DAD function can be found in Scripts/prediction_functions.py\n",
    "DFT_calculated = 2.0051969\n",
    "\n",
    "\n",
    "print('DFT calcualted g = ',DFT_calculated)\n",
    "print('ML predicted g = ',predicted)\n",
    "print('Difference  = ',DFT_calculated-predicted)"
   ]
  },
  {
   "cell_type": "markdown",
   "id": "92c56fed-01ad-40f7-95aa-682b6e8df61d",
   "metadata": {},
   "source": [
    "XYZ files for TE-2 test data set for each radical density are provided under the folder XYZ_files/TE-2/"
   ]
  },
  {
   "cell_type": "markdown",
   "id": "492e1940-9106-4bdf-a782-45fb2fbabb9e",
   "metadata": {},
   "source": [
    "### TE-2 dataset ERT-MBTR"
   ]
  },
  {
   "cell_type": "markdown",
   "id": "0b965bba-ed9f-44a7-bdb5-1018e219d61d",
   "metadata": {
    "tags": []
   },
   "source": [
    "**TE-2 predictions from the manuscript are shown below. As an example, PTMA-1 is shows. Other radical densities can be selected by changing the files names specified in X_test_te2 and Y_test_te2 variables. All required files can be found in the folder 'Datasets/TE-2/'.**"
   ]
  },
  {
   "cell_type": "code",
   "execution_count": 36,
   "id": "32e14e70-aa36-40f9-9f10-3ce4ac682d6a",
   "metadata": {
    "tags": []
   },
   "outputs": [],
   "source": [
    "X_test_te2 = np.load('Datasets/TE-2/PTMA_1_structure_data.npy')  ## structure data stored in MBTR representation\n",
    "Y_test_te2 = np.load('Datasets/TE-2/PTMA_1_giso_DFT_data.npy')   ## g_iso values calculated using DFT"
   ]
  },
  {
   "cell_type": "code",
   "execution_count": 37,
   "id": "52969db6-0f02-43ee-a601-b2d540e416ad",
   "metadata": {
    "tags": []
   },
   "outputs": [
    {
     "name": "stderr",
     "output_type": "stream",
     "text": [
      "[Parallel(n_jobs=8)]: Using backend ThreadingBackend with 8 concurrent workers.\n",
      "[Parallel(n_jobs=8)]: Done  34 tasks      | elapsed:    0.0s\n",
      "[Parallel(n_jobs=8)]: Done 100 out of 100 | elapsed:    0.0s finished\n"
     ]
    }
   ],
   "source": [
    "predictions_te2 = model_MBTR.predict(X_test_te2) ## g_iso values predicted"
   ]
  },
  {
   "cell_type": "code",
   "execution_count": 38,
   "id": "c1d66fc8-e0e8-4e21-b368-226e634b80fd",
   "metadata": {
    "tags": []
   },
   "outputs": [
    {
     "name": "stdout",
     "output_type": "stream",
     "text": [
      "*** TE-2 error metrics ***\n",
      "\n",
      "R2 : 0.9922\n",
      "MAE : 0.000095\n",
      "RMSE : 0.000114\n",
      "\n",
      "*******\n"
     ]
    }
   ],
   "source": [
    "#```python\n",
    "from sklearn.metrics import r2_score,mean_absolute_error,mean_squared_error\n",
    "print('*** TE-2 error metrics ***\\n')\n",
    "print('R2 : {:.4f}'.format(r2_score(Y_test_te2,predictions_te2)))\n",
    "print('MAE : {:.6f}'.format(mean_absolute_error(Y_test_te2,predictions_te2)))\n",
    "print('RMSE : {:.6f}'.format(mean_squared_error(Y_test_te2,predictions_te2,squared=False)))\n",
    "\n",
    "print('\\n*******')\n",
    "#```\n"
   ]
  },
  {
   "cell_type": "code",
   "execution_count": null,
   "id": "65e4e8af-2c91-4617-8a3b-1f75d9e8d777",
   "metadata": {},
   "outputs": [],
   "source": []
  }
 ],
 "metadata": {
  "kernelspec": {
   "display_name": "Python 3 (ipykernel)",
   "language": "python",
   "name": "python3"
  },
  "language_info": {
   "codemirror_mode": {
    "name": "ipython",
    "version": 3
   },
   "file_extension": ".py",
   "mimetype": "text/x-python",
   "name": "python",
   "nbconvert_exporter": "python",
   "pygments_lexer": "ipython3",
   "version": "3.9.18"
  }
 },
 "nbformat": 4,
 "nbformat_minor": 5
}
