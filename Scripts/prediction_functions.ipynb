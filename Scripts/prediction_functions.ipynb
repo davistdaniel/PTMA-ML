{
 "cells": [
  {
   "cell_type": "code",
   "execution_count": 25,
   "id": "1dd07050-091a-443b-8e29-0c3472ca3ef7",
   "metadata": {
    "tags": []
   },
   "outputs": [],
   "source": [
    "import pickle\n",
    "import numpy as np\n",
    "from ase.io import read"
   ]
  },
  {
   "cell_type": "code",
   "execution_count": 31,
   "id": "d7157772-7fa9-4fff-a1cc-0637dd7f45c7",
   "metadata": {
    "tags": []
   },
   "outputs": [],
   "source": [
    "\n",
    "mbtr = pickle.load(open('Scripts/mbtr_object.pkl','rb'))\n",
    "\n",
    "def predict_MBTR(model,xyz):\n",
    "    \n",
    "    '''\n",
    "    Predicts g value from a PTMA polymer structure given as an xyz file using the MBTR-ETR-model.\n",
    "    \n",
    "    Input :\n",
    "    model : Trained model\n",
    "    xyz_file : Path to XYZ file\n",
    "    \n",
    "    \n",
    "    '''\n",
    "    \n",
    "    structure = read(xyz)    \n",
    "    struct_vector = mbtr.create(structure)\n",
    "    struct_vector = np.atleast_2d(struct_vector)\n",
    "    \n",
    "    pred = model.predict(struct_vector)\n",
    "\n",
    "    return pred\n",
    "\n",
    "\n"
   ]
  },
  {
   "cell_type": "code",
   "execution_count": 32,
   "id": "4c498649-8a1c-4ce3-aaf7-40833b54df50",
   "metadata": {
    "tags": []
   },
   "outputs": [],
   "source": [
    "\n",
    "atom_pairs = pickle.load(open('Scripts/DAD_atoms_pairs.pkl','rb'))  ## read all pairs bonded atoms indices in PTMA structure.\n",
    "atom_triplets = pickle.load(open('Scripts/DAD_atoms_triplets.pkl','rb')) ## read all three atom sets which are in PTMA structure\n",
    "atom_quads = pickle.load(open('Scripts/DAD_atoms_quads.pkl','rb')) ## read all four atom sets which are in PTMA structure\n",
    "\n",
    "\n",
    "\n",
    "def generate_DAD(xyz):\n",
    "    '''\n",
    "    \n",
    "    Generate DAD feature vectors from xyz file.\n",
    "    \n",
    "    '''\n",
    "    atoms = read(xyz)  # This is an ASE atoms object.\n",
    "\n",
    "    \n",
    "    feature_vector = []\n",
    "    \n",
    "    distances = [atoms.get_distance(atom1, atom2) for atom1, atom2 in zip(atom_pairs[0], atom_pairs[1])]\n",
    "    feature_vector.extend(distances)\n",
    "    \n",
    "    angles = [atoms.get_angle(atom[0], atom[1], atom[2]) for atom in atom_triplets]\n",
    "    feature_vector.extend(angles)\n",
    "    \n",
    "    dihedrals = [atoms.get_dihedral(atom[0], atom[1], atom[2], atom[3]) for atom in atom_quads]\n",
    "    feature_vector.extend(dihedrals)\n",
    "    \n",
    "    return np.array(feature_vector)"
   ]
  },
  {
   "cell_type": "code",
   "execution_count": 28,
   "id": "80f09faa-ec95-446a-b185-2f699077c6c5",
   "metadata": {
    "tags": []
   },
   "outputs": [],
   "source": [
    "def predict_DAD(model,xyz):\n",
    "    \n",
    "    '''\n",
    "    Predicts g value from a PTMA polymer structure given as an xyz file using the DAD-ETR-model\n",
    "    \n",
    "    Input :\n",
    "    model : Trained DAD model\n",
    "    xyz_file : Path to XYZ file\n",
    "    \n",
    "    \n",
    "    '''\n",
    "    \n",
    "    struct_vector = generate_DAD(xyz)\n",
    "    struct_vector = np.atleast_2d(struct_vector)\n",
    "    \n",
    "    pred = model.predict(struct_vector)\n",
    "\n",
    "    return pred\n",
    "\n",
    "\n",
    "\n"
   ]
  },
  {
   "cell_type": "code",
   "execution_count": null,
   "id": "49cb1fce-b99d-4854-bd3a-fd9fa7ea4920",
   "metadata": {},
   "outputs": [],
   "source": []
  }
 ],
 "metadata": {
  "kernelspec": {
   "display_name": "Python 3 (ipykernel)",
   "language": "python",
   "name": "python3"
  },
  "language_info": {
   "codemirror_mode": {
    "name": "ipython",
    "version": 3
   },
   "file_extension": ".py",
   "mimetype": "text/x-python",
   "name": "python",
   "nbconvert_exporter": "python",
   "pygments_lexer": "ipython3",
   "version": "3.9.16"
  }
 },
 "nbformat": 4,
 "nbformat_minor": 5
}
